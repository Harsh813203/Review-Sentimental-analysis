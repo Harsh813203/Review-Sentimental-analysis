{
  "nbformat": 4,
  "nbformat_minor": 0,
  "metadata": {
    "colab": {
      "name": "Review sentimental analysis.ipynb",
      "provenance": [],
      "collapsed_sections": [],
      "authorship_tag": "ABX9TyPHPcnGnwZuCa7EG5CJMEpA",
      "include_colab_link": true
    },
    "kernelspec": {
      "name": "python3",
      "display_name": "Python 3"
    }
  },
  "cells": [
    {
      "cell_type": "markdown",
      "metadata": {
        "id": "view-in-github",
        "colab_type": "text"
      },
      "source": [
        "<a href=\"https://colab.research.google.com/github/Harsh813203/Review-Sentimental-analysis/blob/master/Review_sentimental_analysis.ipynb\" target=\"_parent\"><img src=\"https://colab.research.google.com/assets/colab-badge.svg\" alt=\"Open In Colab\"/></a>"
      ]
    },
    {
      "cell_type": "code",
      "metadata": {
        "id": "3sGqpYP5Gddm",
        "outputId": "e9ade5b0-3544-49fd-93b5-a824a122296a",
        "colab": {
          "base_uri": "https://localhost:8080/"
        }
      },
      "source": [
        "!wget \"https://www.dropbox.com/s/c6lmwqz67kpdsiq/review_dataset.csv\""
      ],
      "execution_count": 1,
      "outputs": [
        {
          "output_type": "stream",
          "text": [
            "--2020-11-14 10:12:47--  https://www.dropbox.com/s/c6lmwqz67kpdsiq/review_dataset.csv\n",
            "Resolving www.dropbox.com (www.dropbox.com)... 162.125.3.1, 2620:100:6018:1::a27d:301\n",
            "Connecting to www.dropbox.com (www.dropbox.com)|162.125.3.1|:443... connected.\n",
            "HTTP request sent, awaiting response... 301 Moved Permanently\n",
            "Location: /s/raw/c6lmwqz67kpdsiq/review_dataset.csv [following]\n",
            "--2020-11-14 10:12:48--  https://www.dropbox.com/s/raw/c6lmwqz67kpdsiq/review_dataset.csv\n",
            "Reusing existing connection to www.dropbox.com:443.\n",
            "HTTP request sent, awaiting response... 302 Found\n",
            "Location: https://uc9af2a28ee79f0e21df7ef9f26d.dl.dropboxusercontent.com/cd/0/inline/BDJZLQkm8r7ggt0x3YpazrEmJVkj7cKBqOtnZRdXWTVBFaD72GpYeOxetslu7SI3hNnmZpCG5DNs9vuuHom8MI6HfSjUG_wZsBjhWyW-zvdCxCp67xtbfGudmn_N78POl7Q/file# [following]\n",
            "--2020-11-14 10:12:48--  https://uc9af2a28ee79f0e21df7ef9f26d.dl.dropboxusercontent.com/cd/0/inline/BDJZLQkm8r7ggt0x3YpazrEmJVkj7cKBqOtnZRdXWTVBFaD72GpYeOxetslu7SI3hNnmZpCG5DNs9vuuHom8MI6HfSjUG_wZsBjhWyW-zvdCxCp67xtbfGudmn_N78POl7Q/file\n",
            "Resolving uc9af2a28ee79f0e21df7ef9f26d.dl.dropboxusercontent.com (uc9af2a28ee79f0e21df7ef9f26d.dl.dropboxusercontent.com)... 162.125.3.15, 2620:100:6018:15::a27d:30f\n",
            "Connecting to uc9af2a28ee79f0e21df7ef9f26d.dl.dropboxusercontent.com (uc9af2a28ee79f0e21df7ef9f26d.dl.dropboxusercontent.com)|162.125.3.15|:443... connected.\n",
            "HTTP request sent, awaiting response... 200 OK\n",
            "Length: 26332150 (25M) [text/plain]\n",
            "Saving to: ‘review_dataset.csv’\n",
            "\n",
            "review_dataset.csv  100%[===================>]  25.11M  69.2MB/s    in 0.4s    \n",
            "\n",
            "2020-11-14 10:12:49 (69.2 MB/s) - ‘review_dataset.csv’ saved [26332150/26332150]\n",
            "\n"
          ],
          "name": "stdout"
        }
      ]
    },
    {
      "cell_type": "code",
      "metadata": {
        "id": "HS7v7QiOG5rt"
      },
      "source": [
        "import pandas as pd\n",
        "import numpy as np"
      ],
      "execution_count": 27,
      "outputs": []
    },
    {
      "cell_type": "code",
      "metadata": {
        "id": "TaYVbE-gHQsP",
        "outputId": "cf067d5e-6091-4adf-b0d2-7c288a6f4786",
        "colab": {
          "base_uri": "https://localhost:8080/",
          "height": 402
        }
      },
      "source": [
        "df = pd.read_csv(\"/content/review_dataset.csv\")\n",
        "df"
      ],
      "execution_count": 28,
      "outputs": [
        {
          "output_type": "execute_result",
          "data": {
            "text/html": [
              "<div>\n",
              "<style scoped>\n",
              "    .dataframe tbody tr th:only-of-type {\n",
              "        vertical-align: middle;\n",
              "    }\n",
              "\n",
              "    .dataframe tbody tr th {\n",
              "        vertical-align: top;\n",
              "    }\n",
              "\n",
              "    .dataframe thead th {\n",
              "        text-align: right;\n",
              "    }\n",
              "</style>\n",
              "<table border=\"1\" class=\"dataframe\">\n",
              "  <thead>\n",
              "    <tr style=\"text-align: right;\">\n",
              "      <th></th>\n",
              "      <th>review</th>\n",
              "      <th>label</th>\n",
              "    </tr>\n",
              "  </thead>\n",
              "  <tbody>\n",
              "    <tr>\n",
              "      <th>0</th>\n",
              "      <td>The Buddy Holly Story opens on a shot of a yel...</td>\n",
              "      <td>pos</td>\n",
              "    </tr>\n",
              "    <tr>\n",
              "      <th>1</th>\n",
              "      <td>***SPOILERS*** Like some evil Tinkers-to-Evers...</td>\n",
              "      <td>neg</td>\n",
              "    </tr>\n",
              "    <tr>\n",
              "      <th>2</th>\n",
              "      <td>Ghost of Dragstrip Hollow is a typical 1950's ...</td>\n",
              "      <td>neg</td>\n",
              "    </tr>\n",
              "    <tr>\n",
              "      <th>3</th>\n",
              "      <td>Whatever you do, don't stop watching when you ...</td>\n",
              "      <td>pos</td>\n",
              "    </tr>\n",
              "    <tr>\n",
              "      <th>4</th>\n",
              "      <td>This is one of those movies you think that the...</td>\n",
              "      <td>neg</td>\n",
              "    </tr>\n",
              "    <tr>\n",
              "      <th>...</th>\n",
              "      <td>...</td>\n",
              "      <td>...</td>\n",
              "    </tr>\n",
              "    <tr>\n",
              "      <th>19995</th>\n",
              "      <td>O boy, was this really bad.&lt;br /&gt;&lt;br /&gt;I saw t...</td>\n",
              "      <td>neg</td>\n",
              "    </tr>\n",
              "    <tr>\n",
              "      <th>19996</th>\n",
              "      <td>Larry Fessenden has been thrashed by most of t...</td>\n",
              "      <td>pos</td>\n",
              "    </tr>\n",
              "    <tr>\n",
              "      <th>19997</th>\n",
              "      <td>This may or may not be the worst movie that St...</td>\n",
              "      <td>neg</td>\n",
              "    </tr>\n",
              "    <tr>\n",
              "      <th>19998</th>\n",
              "      <td>I have no idea what these people were thinking...</td>\n",
              "      <td>neg</td>\n",
              "    </tr>\n",
              "    <tr>\n",
              "      <th>19999</th>\n",
              "      <td>\"The Groove Tube\" was initially shown on video...</td>\n",
              "      <td>pos</td>\n",
              "    </tr>\n",
              "  </tbody>\n",
              "</table>\n",
              "<p>20000 rows × 2 columns</p>\n",
              "</div>"
            ],
            "text/plain": [
              "                                                  review label\n",
              "0      The Buddy Holly Story opens on a shot of a yel...   pos\n",
              "1      ***SPOILERS*** Like some evil Tinkers-to-Evers...   neg\n",
              "2      Ghost of Dragstrip Hollow is a typical 1950's ...   neg\n",
              "3      Whatever you do, don't stop watching when you ...   pos\n",
              "4      This is one of those movies you think that the...   neg\n",
              "...                                                  ...   ...\n",
              "19995  O boy, was this really bad.<br /><br />I saw t...   neg\n",
              "19996  Larry Fessenden has been thrashed by most of t...   pos\n",
              "19997  This may or may not be the worst movie that St...   neg\n",
              "19998  I have no idea what these people were thinking...   neg\n",
              "19999  \"The Groove Tube\" was initially shown on video...   pos\n",
              "\n",
              "[20000 rows x 2 columns]"
            ]
          },
          "metadata": {
            "tags": []
          },
          "execution_count": 28
        }
      ]
    },
    {
      "cell_type": "code",
      "metadata": {
        "id": "yvqNIoKdHco-",
        "outputId": "5f6be8e9-258b-458d-9be2-b34bc8ac8de5",
        "colab": {
          "base_uri": "https://localhost:8080/",
          "height": 402
        }
      },
      "source": [
        "df[df['label']=='pos']"
      ],
      "execution_count": 29,
      "outputs": [
        {
          "output_type": "execute_result",
          "data": {
            "text/html": [
              "<div>\n",
              "<style scoped>\n",
              "    .dataframe tbody tr th:only-of-type {\n",
              "        vertical-align: middle;\n",
              "    }\n",
              "\n",
              "    .dataframe tbody tr th {\n",
              "        vertical-align: top;\n",
              "    }\n",
              "\n",
              "    .dataframe thead th {\n",
              "        text-align: right;\n",
              "    }\n",
              "</style>\n",
              "<table border=\"1\" class=\"dataframe\">\n",
              "  <thead>\n",
              "    <tr style=\"text-align: right;\">\n",
              "      <th></th>\n",
              "      <th>review</th>\n",
              "      <th>label</th>\n",
              "    </tr>\n",
              "  </thead>\n",
              "  <tbody>\n",
              "    <tr>\n",
              "      <th>0</th>\n",
              "      <td>The Buddy Holly Story opens on a shot of a yel...</td>\n",
              "      <td>pos</td>\n",
              "    </tr>\n",
              "    <tr>\n",
              "      <th>3</th>\n",
              "      <td>Whatever you do, don't stop watching when you ...</td>\n",
              "      <td>pos</td>\n",
              "    </tr>\n",
              "    <tr>\n",
              "      <th>6</th>\n",
              "      <td>Most of other reactions by subscribers to this...</td>\n",
              "      <td>pos</td>\n",
              "    </tr>\n",
              "    <tr>\n",
              "      <th>9</th>\n",
              "      <td>This is a long lost horror gem starring Sydney...</td>\n",
              "      <td>pos</td>\n",
              "    </tr>\n",
              "    <tr>\n",
              "      <th>13</th>\n",
              "      <td>Although others have commented that this video...</td>\n",
              "      <td>pos</td>\n",
              "    </tr>\n",
              "    <tr>\n",
              "      <th>...</th>\n",
              "      <td>...</td>\n",
              "      <td>...</td>\n",
              "    </tr>\n",
              "    <tr>\n",
              "      <th>19992</th>\n",
              "      <td>It should be noted that this movie was not \"im...</td>\n",
              "      <td>pos</td>\n",
              "    </tr>\n",
              "    <tr>\n",
              "      <th>19993</th>\n",
              "      <td>Well the main reason I tuned in to watch this ...</td>\n",
              "      <td>pos</td>\n",
              "    </tr>\n",
              "    <tr>\n",
              "      <th>19994</th>\n",
              "      <td>I feel Monarch Cove was one of the best writte...</td>\n",
              "      <td>pos</td>\n",
              "    </tr>\n",
              "    <tr>\n",
              "      <th>19996</th>\n",
              "      <td>Larry Fessenden has been thrashed by most of t...</td>\n",
              "      <td>pos</td>\n",
              "    </tr>\n",
              "    <tr>\n",
              "      <th>19999</th>\n",
              "      <td>\"The Groove Tube\" was initially shown on video...</td>\n",
              "      <td>pos</td>\n",
              "    </tr>\n",
              "  </tbody>\n",
              "</table>\n",
              "<p>9993 rows × 2 columns</p>\n",
              "</div>"
            ],
            "text/plain": [
              "                                                  review label\n",
              "0      The Buddy Holly Story opens on a shot of a yel...   pos\n",
              "3      Whatever you do, don't stop watching when you ...   pos\n",
              "6      Most of other reactions by subscribers to this...   pos\n",
              "9      This is a long lost horror gem starring Sydney...   pos\n",
              "13     Although others have commented that this video...   pos\n",
              "...                                                  ...   ...\n",
              "19992  It should be noted that this movie was not \"im...   pos\n",
              "19993  Well the main reason I tuned in to watch this ...   pos\n",
              "19994  I feel Monarch Cove was one of the best writte...   pos\n",
              "19996  Larry Fessenden has been thrashed by most of t...   pos\n",
              "19999  \"The Groove Tube\" was initially shown on video...   pos\n",
              "\n",
              "[9993 rows x 2 columns]"
            ]
          },
          "metadata": {
            "tags": []
          },
          "execution_count": 29
        }
      ]
    },
    {
      "cell_type": "code",
      "metadata": {
        "id": "94rUylXVIXfF",
        "outputId": "e417a090-ec55-4575-b0b9-5e4326232196",
        "colab": {
          "base_uri": "https://localhost:8080/"
        }
      },
      "source": [
        "df.shape"
      ],
      "execution_count": 30,
      "outputs": [
        {
          "output_type": "execute_result",
          "data": {
            "text/plain": [
              "(20000, 2)"
            ]
          },
          "metadata": {
            "tags": []
          },
          "execution_count": 30
        }
      ]
    },
    {
      "cell_type": "code",
      "metadata": {
        "id": "EXJwhmURIy1T",
        "outputId": "8f1be25d-ba12-47fb-a71c-f496b7a0b401",
        "colab": {
          "base_uri": "https://localhost:8080/",
          "height": 120
        }
      },
      "source": [
        "df['review'][1]"
      ],
      "execution_count": 31,
      "outputs": [
        {
          "output_type": "execute_result",
          "data": {
            "application/vnd.google.colaboratory.intrinsic+json": {
              "type": "string"
            },
            "text/plain": [
              "'***SPOILERS*** Like some evil Tinkers-to-Evers-to-Chance double-play combination we have in \"Omen IV\" the evil seed of the deceased AntiChrist Damien Thorn come back. Terrorizing his parents his schoolmates his neighbors and finally the entire world as a she named Delia York, Asia Vieila. After being given to a \"deserving\" couple the Yorks Karen & Gene, Fay Grant & Michael Woods,by the Catholic Church\\'s St. Francis orphanage.<br /><br />Little Delia didn\\'t waste any time making her peasants felt by scratching her mom at a house party. Later Delia almost get killed by a runaway truck only to have herself saved by this \"Devil Dog\" named Ryder. Going to school Delia takes care of the local bully by getting the big guy to wet himself in front of all his classmates. Later when his father threatens the Yorks with a law suit she has his head sliced off in a self-induced traffic accident! Delia is someone that you never mess with if you know what\\'s good for you.<br /><br />Meanwhile Dalia\\'s dad Gene becomes a big man in town on his own, or so he thinks, by getting elected to the congress as a champion of the clean air and green trees crowd instead of letting the smog and concrete boys take over the neighborhood with his eye now on he White House itself! Did his bratty and strange daughter Delia have anything to do with Gene York\\'s sudden good fortune?<br /><br />It\\'s only later when Jo, Ann Hearen, is hired as Delia\\'s nanny that the truth\\'s comes out about her strange and evil powers. Jo a New Age type realizes that Delia is a bit weird, after turning all her white crystals black, and calls her New Age Guru Noah, Jim Byrnes, to come over and check her out. Noah is so upset by what he sees in Delia Kirilian color vibrations ,all black and blue with a little pinch of red, that it flips him out so bad that he almost crashed into Delia\\'s moms car.<br /><br />Taken on a trip to a psychic festival by Jo Delia turns the entire event into an inferno setting the place, through mental telepathy, on fire and heaving everyone there run for cover including poor Noah who was at the festival and ended up with his leg broken. The and shaken and battered Guru was so shook up by the whole experience that he later checked out of the country to become a hermit in the Tibetan wilderness. <br /><br />Jo herself is later thrown out, with the help of the sweet and cuddly family pet Ryder, of a second floor window to her death because she knew and talked too much. It\\'s when Karen is again pregnant that she decides, finally, to find out the truth about the real parents of Delia. That\\'s when she,and we in the audience, come face to face with the truth. She\\'s not only the feared AntiChrist of Revelations she\\'s his twin sister! Her brother the AntiChrist himself is about to come on the scene as her kid brother the sill unborn Alexander York!<br /><br />Three times were more then enough for the AntiChrist coming back to earth to bring about Armageddon. The movie going public were already getting a little tired of of him and his evil adventures. With a fourth really not necessary since Daimen Thorn, the original AntiChrist, had been dead and buried for years. Were put through the usual ringer with no one believing that little Delia is \"Thee\" AntiChrist until it was almost too late to stop her in her deadly rounds of destroying the entire human race. The movie as bad as it is is also far too long, 97 minutes, for a horror flick that could well have told it\\'s story is as little as 80 minutes.<br /><br />Having a private eye Earl Knight, Mchael Learner,and later a former Catholic nun sister Yvonne,Megan Lehch,and now faith healer Felichy in the film only to be killed off didn\\'t help the plot either. It only prolonged the suffering of those of us watching the movie. You could see the surprise ending coming almost as soon as the film \"Omen IV\" began with the bases being cleared for Delia\\'s eventual takeover of the civilized as well as uncivilized world. What was a bit of a surprise was Delia doing it with a little help from friends.'"
            ]
          },
          "metadata": {
            "tags": []
          },
          "execution_count": 31
        }
      ]
    },
    {
      "cell_type": "code",
      "metadata": {
        "id": "q89vwQKiI2We",
        "outputId": "ee56fdd8-2774-4a3e-84c9-a26c2aac1bb5",
        "colab": {
          "base_uri": "https://localhost:8080/"
        }
      },
      "source": [
        "import re\n",
        "import nltk\n",
        "from nltk.corpus import stopwords\n",
        "nltk.download('stopwords')\n",
        "sw = stopwords.words('english')\n",
        "\n",
        "\n"
      ],
      "execution_count": 32,
      "outputs": [
        {
          "output_type": "stream",
          "text": [
            "[nltk_data] Downloading package stopwords to /root/nltk_data...\n",
            "[nltk_data]   Package stopwords is already up-to-date!\n"
          ],
          "name": "stdout"
        }
      ]
    },
    {
      "cell_type": "code",
      "metadata": {
        "id": "QKMTcCaELNwi"
      },
      "source": [
        "def clean_text(sample):\n",
        "  sample = sample.lower()\n",
        "  sample = sample.replace(\"<br /><br />\",\"\")\n",
        "  sample = re.sub(\"[^a-zA-Z]+\", \" \",sample)\n",
        "  sample = sample.split(\" \")\n",
        "\n",
        "  sample =[ word for word in sample if word not in sw] #list comprehension\n",
        "  sample = \" \".join(sample)\n",
        "  return sample"
      ],
      "execution_count": 33,
      "outputs": []
    },
    {
      "cell_type": "code",
      "metadata": {
        "id": "6qcjpJCSMPtU",
        "outputId": "f71fdd1b-cdc4-4ce8-f8df-c7dba9989daa",
        "colab": {
          "base_uri": "https://localhost:8080/",
          "height": 120
        }
      },
      "source": [
        "clean_text(df['review'][1])"
      ],
      "execution_count": 34,
      "outputs": [
        {
          "output_type": "execute_result",
          "data": {
            "application/vnd.google.colaboratory.intrinsic+json": {
              "type": "string"
            },
            "text/plain": [
              "' spoilers like evil tinkers evers chance double play combination omen iv evil seed deceased antichrist damien thorn come back terrorizing parents schoolmates neighbors finally entire world named delia york asia vieila given deserving couple yorks karen gene fay grant michael woods catholic church st francis orphanage little delia waste time making peasants felt scratching mom house party later delia almost get killed runaway truck saved devil dog named ryder going school delia takes care local bully getting big guy wet front classmates later father threatens yorks law suit head sliced self induced traffic accident delia someone never mess know good meanwhile dalia dad gene becomes big man town thinks getting elected congress champion clean air green trees crowd instead letting smog concrete boys take neighborhood eye white house bratty strange daughter delia anything gene york sudden good fortune later jo ann hearen hired delia nanny truth comes strange evil powers jo new age type realizes delia bit weird turning white crystals black calls new age guru noah jim byrnes come check noah upset sees delia kirilian color vibrations black blue little pinch red flips bad almost crashed delia moms car taken trip psychic festival jo delia turns entire event inferno setting place mental telepathy fire heaving everyone run cover including poor noah festival ended leg broken shaken battered guru shook whole experience later checked country become hermit tibetan wilderness jo later thrown help sweet cuddly family pet ryder second floor window death knew talked much karen pregnant decides finally find truth real parents delia audience come face face truth feared antichrist revelations twin sister brother antichrist come scene kid brother sill unborn alexander york three times enough antichrist coming back earth bring armageddon movie going public already getting little tired evil adventures fourth really necessary since daimen thorn original antichrist dead buried years put usual ringer one believing little delia thee antichrist almost late stop deadly rounds destroying entire human race movie bad also far long minutes horror flick could well told story little minutes private eye earl knight mchael learner later former catholic nun sister yvonne megan lehch faith healer felichy film killed help plot either prolonged suffering us watching movie could see surprise ending coming almost soon film omen iv began bases cleared delia eventual takeover civilized well uncivilized world bit surprise delia little help friends '"
            ]
          },
          "metadata": {
            "tags": []
          },
          "execution_count": 34
        }
      ]
    },
    {
      "cell_type": "code",
      "metadata": {
        "id": "u5pwNqC4MXEZ"
      },
      "source": [
        "df['review'] =df['review'].apply(clean_text)"
      ],
      "execution_count": 35,
      "outputs": []
    },
    {
      "cell_type": "code",
      "metadata": {
        "id": "3hwhvPq2PCaS",
        "outputId": "c395dda0-736e-4be0-9fc7-27733658f5da",
        "colab": {
          "base_uri": "https://localhost:8080/"
        }
      },
      "source": [
        "df['review']"
      ],
      "execution_count": 36,
      "outputs": [
        {
          "output_type": "execute_result",
          "data": {
            "text/plain": [
              "0        buddy holly story opens shot yellow neon moon ...\n",
              "1         spoilers like evil tinkers evers chance doubl...\n",
              "2        ghost dragstrip hollow typical teens turmoil m...\n",
              "3        whatever stop watching think movie hang around...\n",
              "4        one movies think makers would refuse release t...\n",
              "                               ...                        \n",
              "19995    boy really bad saw videotape scenes soundtrack...\n",
              "19996    larry fessenden thrashed comments forum well w...\n",
              "19997    may may worst movie steve martin ever made cer...\n",
              "19998    idea people thinking made film plot limited ac...\n",
              "19999     groove tube initially shown video first video...\n",
              "Name: review, Length: 20000, dtype: object"
            ]
          },
          "metadata": {
            "tags": []
          },
          "execution_count": 36
        }
      ]
    },
    {
      "cell_type": "code",
      "metadata": {
        "id": "Zp1I4r27PJ4o"
      },
      "source": [
        "x= df['review'].values\n",
        "y= df['label'].values"
      ],
      "execution_count": 37,
      "outputs": []
    },
    {
      "cell_type": "code",
      "metadata": {
        "id": "6V6eedbwP5dk"
      },
      "source": [
        "x_train = x[0:15000]\n",
        "x_test = x[15000:20000]\n",
        "\n",
        "y_train = y[0:15000]\n",
        "y_test = y[15000:20000]"
      ],
      "execution_count": 38,
      "outputs": []
    },
    {
      "cell_type": "code",
      "metadata": {
        "id": "JWFnEs0xQPGu",
        "outputId": "f3e05633-cfb4-46d4-c185-52508d4bba1e",
        "colab": {
          "base_uri": "https://localhost:8080/"
        }
      },
      "source": [
        "y_train"
      ],
      "execution_count": 39,
      "outputs": [
        {
          "output_type": "execute_result",
          "data": {
            "text/plain": [
              "array(['pos', 'neg', 'neg', ..., 'pos', 'pos', 'pos'], dtype=object)"
            ]
          },
          "metadata": {
            "tags": []
          },
          "execution_count": 39
        }
      ]
    },
    {
      "cell_type": "code",
      "metadata": {
        "id": "WTP0CTiFQRNF",
        "outputId": "e6b4f8cc-ff78-4848-df0b-a8683a126958",
        "colab": {
          "base_uri": "https://localhost:8080/"
        }
      },
      "source": [
        "#another library for converting pos/neg to 1/0\n",
        "from sklearn.preprocessing import LabelEncoder\n",
        "\n",
        "le = LabelEncoder()\n",
        "le.fit(y_train)"
      ],
      "execution_count": 40,
      "outputs": [
        {
          "output_type": "execute_result",
          "data": {
            "text/plain": [
              "LabelEncoder()"
            ]
          },
          "metadata": {
            "tags": []
          },
          "execution_count": 40
        }
      ]
    },
    {
      "cell_type": "code",
      "metadata": {
        "id": "Koe4-ePZQkXn"
      },
      "source": [
        "y_train = le.transform(y_train)\n",
        "y_test = le.transform(y_test)"
      ],
      "execution_count": 41,
      "outputs": []
    },
    {
      "cell_type": "code",
      "metadata": {
        "id": "-WARE-lsQqRX",
        "outputId": "32df15d5-e7e3-4264-81fd-9f37f036a681",
        "colab": {
          "base_uri": "https://localhost:8080/"
        }
      },
      "source": [
        "y_train[0:20]"
      ],
      "execution_count": 42,
      "outputs": [
        {
          "output_type": "execute_result",
          "data": {
            "text/plain": [
              "array([1, 0, 0, 1, 0, 0, 1, 0, 0, 1, 0, 0, 0, 1, 0, 0, 1, 1, 1, 0])"
            ]
          },
          "metadata": {
            "tags": []
          },
          "execution_count": 42
        }
      ]
    },
    {
      "cell_type": "code",
      "metadata": {
        "id": "x9hQcLEHRJet"
      },
      "source": [
        "# Bag of Word Model(it convert sentences into number)\n",
        "# it convert sentences into numbers\n",
        "\n",
        "from sklearn.feature_extraction.text import CountVectorizer\n",
        "\n",
        "cv = CountVectorizer(max_features=10000)"
      ],
      "execution_count": 43,
      "outputs": []
    },
    {
      "cell_type": "code",
      "metadata": {
        "id": "OqWGRGMrRsHI",
        "outputId": "d50e5157-bc08-4932-8e58-6ee2687a94df",
        "colab": {
          "base_uri": "https://localhost:8080/"
        }
      },
      "source": [
        "cv.fit(x_train)"
      ],
      "execution_count": 44,
      "outputs": [
        {
          "output_type": "execute_result",
          "data": {
            "text/plain": [
              "CountVectorizer(analyzer='word', binary=False, decode_error='strict',\n",
              "                dtype=<class 'numpy.int64'>, encoding='utf-8', input='content',\n",
              "                lowercase=True, max_df=1.0, max_features=10000, min_df=1,\n",
              "                ngram_range=(1, 1), preprocessor=None, stop_words=None,\n",
              "                strip_accents=None, token_pattern='(?u)\\\\b\\\\w\\\\w+\\\\b',\n",
              "                tokenizer=None, vocabulary=None)"
            ]
          },
          "metadata": {
            "tags": []
          },
          "execution_count": 44
        }
      ]
    },
    {
      "cell_type": "code",
      "metadata": {
        "id": "erEtVCf9R3B-"
      },
      "source": [
        "x_train = cv.transform(x_train).toarray()"
      ],
      "execution_count": 45,
      "outputs": []
    },
    {
      "cell_type": "code",
      "metadata": {
        "id": "HOCYHeKWR7fU",
        "outputId": "78e9f2a2-0306-499b-c77b-c819403909e7",
        "colab": {
          "base_uri": "https://localhost:8080/"
        }
      },
      "source": [
        "x_train.shape"
      ],
      "execution_count": 46,
      "outputs": [
        {
          "output_type": "execute_result",
          "data": {
            "text/plain": [
              "(15000, 10000)"
            ]
          },
          "metadata": {
            "tags": []
          },
          "execution_count": 46
        }
      ]
    },
    {
      "cell_type": "code",
      "metadata": {
        "id": "krq4RhLISwtO"
      },
      "source": [
        "x_test = cv.transform(x_test).toarray()"
      ],
      "execution_count": 47,
      "outputs": []
    },
    {
      "cell_type": "code",
      "metadata": {
        "id": "Y37HYaOqS2w7"
      },
      "source": [
        ""
      ],
      "execution_count": 22,
      "outputs": []
    },
    {
      "cell_type": "markdown",
      "metadata": {
        "id": "uTSJlafeS7Kz"
      },
      "source": [
        "##Model Training"
      ]
    },
    {
      "cell_type": "code",
      "metadata": {
        "id": "1L4T2gvaTBHc"
      },
      "source": [
        "from sklearn.naive_bayes import MultinomialNB\n",
        "\n",
        "mnb = MultinomialNB()"
      ],
      "execution_count": 48,
      "outputs": []
    },
    {
      "cell_type": "code",
      "metadata": {
        "id": "lBb-xBOnTBrY",
        "outputId": "649df1d3-df8e-420f-8b1a-628009f02f8a",
        "colab": {
          "base_uri": "https://localhost:8080/"
        }
      },
      "source": [
        "#Training Pary\n",
        "mnb.fit(x_train, y_train)"
      ],
      "execution_count": 49,
      "outputs": [
        {
          "output_type": "execute_result",
          "data": {
            "text/plain": [
              "MultinomialNB(alpha=1.0, class_prior=None, fit_prior=True)"
            ]
          },
          "metadata": {
            "tags": []
          },
          "execution_count": 49
        }
      ]
    },
    {
      "cell_type": "code",
      "metadata": {
        "id": "4C_fL_77TBog",
        "outputId": "5af15234-63f1-4a99-df5f-53adf9c7ea5a",
        "colab": {
          "base_uri": "https://localhost:8080/"
        }
      },
      "source": [
        "mnb.predict(x_test)"
      ],
      "execution_count": 50,
      "outputs": [
        {
          "output_type": "execute_result",
          "data": {
            "text/plain": [
              "array([0, 0, 1, ..., 0, 0, 0])"
            ]
          },
          "metadata": {
            "tags": []
          },
          "execution_count": 50
        }
      ]
    },
    {
      "cell_type": "code",
      "metadata": {
        "id": "fWlZNB0STBmK"
      },
      "source": [
        ""
      ],
      "execution_count": 25,
      "outputs": []
    }
  ]
}